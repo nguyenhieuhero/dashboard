{
 "cells": [
  {
   "cell_type": "code",
   "execution_count": 1,
   "metadata": {},
   "outputs": [],
   "source": [
    "import numpy as np\n",
    "import pandas as pd\n",
    "import json\n",
    "import os\n",
    "pd.options.mode.chained_assignment = None\n",
    "\n",
    "from sklearn.utils import shuffle"
   ]
  },
  {
   "cell_type": "code",
   "execution_count": 2,
   "metadata": {},
   "outputs": [],
   "source": [
    "data = pd.read_csv('2023-04-14T0721_Grades-Trực_quan_hoá_dữ_liệu.csv')"
   ]
  },
  {
   "cell_type": "code",
   "execution_count": 3,
   "metadata": {},
   "outputs": [
    {
     "data": {
      "text/plain": [
       "42"
      ]
     },
     "execution_count": 3,
     "metadata": {},
     "output_type": "execute_result"
    }
   ],
   "source": [
    "len(data)"
   ]
  },
  {
   "cell_type": "code",
   "execution_count": 4,
   "metadata": {},
   "outputs": [
    {
     "data": {
      "text/plain": [
       "Index(['Student', 'ID', 'SIS User ID', 'SIS Login ID', 'Section',\n",
       "       'LTI Attendance (34474)', 'Roll Call Attendance (35546)',\n",
       "       'Assignment 1 (35967)', 'Assignment 2 (36357)', 'Assignment_3 (40427)',\n",
       "       'Assignment_4 (42955)', 'Assignment_5 (43682)', 'Mid-term Exam (44519)',\n",
       "       'Assignment_6 (45740)', 'Bài tập Current Score',\n",
       "       'Bài tập Unposted Current Score', 'Bài tập Final Score',\n",
       "       'Bài tập Unposted Final Score', 'Bài tập Current Score.1',\n",
       "       'Bài tập Unposted Current Score.1', 'Bài tập Final Score.1',\n",
       "       'Bài tập Unposted Final Score.1',\n",
       "       'CC1 (Từ Phòng Đào Tạo) Current Score',\n",
       "       'CC1 (Từ Phòng Đào Tạo) Unposted Current Score',\n",
       "       'CC1 (Từ Phòng Đào Tạo) Final Score',\n",
       "       'CC1 (Từ Phòng Đào Tạo) Unposted Final Score',\n",
       "       'CC2 (Từ Phòng Đào Tạo) Current Score',\n",
       "       'CC2 (Từ Phòng Đào Tạo) Unposted Current Score',\n",
       "       'CC2 (Từ Phòng Đào Tạo) Final Score',\n",
       "       'CC2 (Từ Phòng Đào Tạo) Unposted Final Score',\n",
       "       'LT_BAI1 (Từ Phòng Đào Tạo) Current Score',\n",
       "       'LT_BAI1 (Từ Phòng Đào Tạo) Unposted Current Score',\n",
       "       'LT_BAI1 (Từ Phòng Đào Tạo) Final Score',\n",
       "       'LT_BAI1 (Từ Phòng Đào Tạo) Unposted Final Score',\n",
       "       'THI1 (Từ Phòng Đào Tạo) Current Score',\n",
       "       'THI1 (Từ Phòng Đào Tạo) Unposted Current Score',\n",
       "       'THI1 (Từ Phòng Đào Tạo) Final Score',\n",
       "       'THI1 (Từ Phòng Đào Tạo) Unposted Final Score', 'Current Score',\n",
       "       'Unposted Current Score', 'Final Score', 'Unposted Final Score'],\n",
       "      dtype='object')"
      ]
     },
     "execution_count": 4,
     "metadata": {},
     "output_type": "execute_result"
    }
   ],
   "source": [
    "data.columns"
   ]
  },
  {
   "cell_type": "code",
   "execution_count": 9,
   "metadata": {},
   "outputs": [],
   "source": [
    "keep = ['Student']"
   ]
  },
  {
   "cell_type": "code",
   "execution_count": 10,
   "metadata": {},
   "outputs": [],
   "source": [
    "keep_df = data.filter(keep)"
   ]
  },
  {
   "cell_type": "code",
   "execution_count": 12,
   "metadata": {},
   "outputs": [],
   "source": [
    "keep_df = keep_df.drop([0,41])"
   ]
  },
  {
   "cell_type": "code",
   "execution_count": 25,
   "metadata": {},
   "outputs": [],
   "source": [
    "group = [1, 2, 3, 4, 5]"
   ]
  },
  {
   "cell_type": "code",
   "execution_count": 26,
   "metadata": {},
   "outputs": [],
   "source": [
    "for i, sub_df in enumerate(np.array_split(shuffle(keep_df), len(group))):\n",
    "    keep_df.loc[sub_df.index, 'Group'] = str(group[i])"
   ]
  },
  {
   "cell_type": "code",
   "execution_count": 27,
   "metadata": {
    "scrolled": false
   },
   "outputs": [
    {
     "data": {
      "text/html": [
       "<div>\n",
       "<style scoped>\n",
       "    .dataframe tbody tr th:only-of-type {\n",
       "        vertical-align: middle;\n",
       "    }\n",
       "\n",
       "    .dataframe tbody tr th {\n",
       "        vertical-align: top;\n",
       "    }\n",
       "\n",
       "    .dataframe thead th {\n",
       "        text-align: right;\n",
       "    }\n",
       "</style>\n",
       "<table border=\"1\" class=\"dataframe\">\n",
       "  <thead>\n",
       "    <tr style=\"text-align: right;\">\n",
       "      <th></th>\n",
       "      <th>Student</th>\n",
       "      <th>Group</th>\n",
       "    </tr>\n",
       "  </thead>\n",
       "  <tbody>\n",
       "    <tr>\n",
       "      <th>1</th>\n",
       "      <td>Anh, Bùi Huy Quyền</td>\n",
       "      <td>5</td>\n",
       "    </tr>\n",
       "    <tr>\n",
       "      <th>2</th>\n",
       "      <td>Anh, Vũ Hoàng</td>\n",
       "      <td>3</td>\n",
       "    </tr>\n",
       "    <tr>\n",
       "      <th>3</th>\n",
       "      <td>Chinh, Nguyễn Thị</td>\n",
       "      <td>5</td>\n",
       "    </tr>\n",
       "    <tr>\n",
       "      <th>4</th>\n",
       "      <td>Công, Nguyễn Chí</td>\n",
       "      <td>2</td>\n",
       "    </tr>\n",
       "    <tr>\n",
       "      <th>5</th>\n",
       "      <td>Công, Nguyễn Tiến</td>\n",
       "      <td>1</td>\n",
       "    </tr>\n",
       "    <tr>\n",
       "      <th>6</th>\n",
       "      <td>Cường, Hoàng Thế</td>\n",
       "      <td>1</td>\n",
       "    </tr>\n",
       "    <tr>\n",
       "      <th>7</th>\n",
       "      <td>Cường, Nguyễn Văn</td>\n",
       "      <td>3</td>\n",
       "    </tr>\n",
       "    <tr>\n",
       "      <th>8</th>\n",
       "      <td>Duy, Phạm Văn</td>\n",
       "      <td>5</td>\n",
       "    </tr>\n",
       "    <tr>\n",
       "      <th>9</th>\n",
       "      <td>Dương, Nguyễn Hoàng</td>\n",
       "      <td>4</td>\n",
       "    </tr>\n",
       "    <tr>\n",
       "      <th>10</th>\n",
       "      <td>Hiếu, Nguyễn Minh</td>\n",
       "      <td>2</td>\n",
       "    </tr>\n",
       "    <tr>\n",
       "      <th>11</th>\n",
       "      <td>Hiếu, Trần Minh</td>\n",
       "      <td>3</td>\n",
       "    </tr>\n",
       "    <tr>\n",
       "      <th>12</th>\n",
       "      <td>Hiệp, Nguyễn Tuấn</td>\n",
       "      <td>4</td>\n",
       "    </tr>\n",
       "    <tr>\n",
       "      <th>13</th>\n",
       "      <td>Huấn, Nguyễn Văn</td>\n",
       "      <td>1</td>\n",
       "    </tr>\n",
       "    <tr>\n",
       "      <th>14</th>\n",
       "      <td>Hưng, Nguyễn Văn</td>\n",
       "      <td>4</td>\n",
       "    </tr>\n",
       "    <tr>\n",
       "      <th>15</th>\n",
       "      <td>Hưng, Nguyễn Vũ Duy</td>\n",
       "      <td>5</td>\n",
       "    </tr>\n",
       "    <tr>\n",
       "      <th>16</th>\n",
       "      <td>Hải, Nguyễn Đăng Đức</td>\n",
       "      <td>5</td>\n",
       "    </tr>\n",
       "    <tr>\n",
       "      <th>17</th>\n",
       "      <td>Khiêm, Trịnh Gia</td>\n",
       "      <td>3</td>\n",
       "    </tr>\n",
       "    <tr>\n",
       "      <th>18</th>\n",
       "      <td>Kiên, Đoàn Trung</td>\n",
       "      <td>3</td>\n",
       "    </tr>\n",
       "    <tr>\n",
       "      <th>19</th>\n",
       "      <td>Linh, Nguyễn Lý Khánh</td>\n",
       "      <td>1</td>\n",
       "    </tr>\n",
       "    <tr>\n",
       "      <th>20</th>\n",
       "      <td>Linh, Đặng Văn Tuấn</td>\n",
       "      <td>2</td>\n",
       "    </tr>\n",
       "    <tr>\n",
       "      <th>21</th>\n",
       "      <td>Long, Nguyễn Hải</td>\n",
       "      <td>2</td>\n",
       "    </tr>\n",
       "    <tr>\n",
       "      <th>22</th>\n",
       "      <td>Long, Nguyễn Việt</td>\n",
       "      <td>4</td>\n",
       "    </tr>\n",
       "    <tr>\n",
       "      <th>23</th>\n",
       "      <td>Long, Nguyễn Văn</td>\n",
       "      <td>5</td>\n",
       "    </tr>\n",
       "    <tr>\n",
       "      <th>24</th>\n",
       "      <td>Miền, Triệu Thị</td>\n",
       "      <td>2</td>\n",
       "    </tr>\n",
       "    <tr>\n",
       "      <th>25</th>\n",
       "      <td>Mạnh, Nguyễn Văn</td>\n",
       "      <td>4</td>\n",
       "    </tr>\n",
       "    <tr>\n",
       "      <th>26</th>\n",
       "      <td>Nga, Nguyễn Thị</td>\n",
       "      <td>4</td>\n",
       "    </tr>\n",
       "    <tr>\n",
       "      <th>27</th>\n",
       "      <td>Ngọc, Nguyễn Thị</td>\n",
       "      <td>1</td>\n",
       "    </tr>\n",
       "    <tr>\n",
       "      <th>28</th>\n",
       "      <td>Phát, Nguyễn</td>\n",
       "      <td>2</td>\n",
       "    </tr>\n",
       "    <tr>\n",
       "      <th>29</th>\n",
       "      <td>Phương, Trần Hữu Duy</td>\n",
       "      <td>1</td>\n",
       "    </tr>\n",
       "    <tr>\n",
       "      <th>30</th>\n",
       "      <td>Quang, Vi Đăng</td>\n",
       "      <td>2</td>\n",
       "    </tr>\n",
       "    <tr>\n",
       "      <th>31</th>\n",
       "      <td>Quyên, Đào Nguyễn Thảo</td>\n",
       "      <td>2</td>\n",
       "    </tr>\n",
       "    <tr>\n",
       "      <th>32</th>\n",
       "      <td>Quân, Nguyễn Đình</td>\n",
       "      <td>3</td>\n",
       "    </tr>\n",
       "    <tr>\n",
       "      <th>33</th>\n",
       "      <td>Thành, Trần Chí</td>\n",
       "      <td>3</td>\n",
       "    </tr>\n",
       "    <tr>\n",
       "      <th>34</th>\n",
       "      <td>Thắng, Nguyễn Viết</td>\n",
       "      <td>3</td>\n",
       "    </tr>\n",
       "    <tr>\n",
       "      <th>35</th>\n",
       "      <td>Thọ, Đặng Tiến</td>\n",
       "      <td>4</td>\n",
       "    </tr>\n",
       "    <tr>\n",
       "      <th>36</th>\n",
       "      <td>Trang, Hòa Thị Thu</td>\n",
       "      <td>5</td>\n",
       "    </tr>\n",
       "    <tr>\n",
       "      <th>37</th>\n",
       "      <td>Tuấn, Nguyễn Văn</td>\n",
       "      <td>1</td>\n",
       "    </tr>\n",
       "    <tr>\n",
       "      <th>38</th>\n",
       "      <td>Tài, Nguyễn Hữu</td>\n",
       "      <td>4</td>\n",
       "    </tr>\n",
       "    <tr>\n",
       "      <th>39</th>\n",
       "      <td>Tú, Lê Hoàng Ngọc</td>\n",
       "      <td>1</td>\n",
       "    </tr>\n",
       "    <tr>\n",
       "      <th>40</th>\n",
       "      <td>Vũ, Cao Đức</td>\n",
       "      <td>5</td>\n",
       "    </tr>\n",
       "  </tbody>\n",
       "</table>\n",
       "</div>"
      ],
      "text/plain": [
       "                   Student Group\n",
       "1       Anh, Bùi Huy Quyền     5\n",
       "2            Anh, Vũ Hoàng     3\n",
       "3        Chinh, Nguyễn Thị     5\n",
       "4         Công, Nguyễn Chí     2\n",
       "5        Công, Nguyễn Tiến     1\n",
       "6         Cường, Hoàng Thế     1\n",
       "7        Cường, Nguyễn Văn     3\n",
       "8            Duy, Phạm Văn     5\n",
       "9      Dương, Nguyễn Hoàng     4\n",
       "10       Hiếu, Nguyễn Minh     2\n",
       "11         Hiếu, Trần Minh     3\n",
       "12       Hiệp, Nguyễn Tuấn     4\n",
       "13        Huấn, Nguyễn Văn     1\n",
       "14        Hưng, Nguyễn Văn     4\n",
       "15     Hưng, Nguyễn Vũ Duy     5\n",
       "16    Hải, Nguyễn Đăng Đức     5\n",
       "17        Khiêm, Trịnh Gia     3\n",
       "18        Kiên, Đoàn Trung     3\n",
       "19   Linh, Nguyễn Lý Khánh     1\n",
       "20     Linh, Đặng Văn Tuấn     2\n",
       "21        Long, Nguyễn Hải     2\n",
       "22       Long, Nguyễn Việt     4\n",
       "23        Long, Nguyễn Văn     5\n",
       "24         Miền, Triệu Thị     2\n",
       "25        Mạnh, Nguyễn Văn     4\n",
       "26         Nga, Nguyễn Thị     4\n",
       "27        Ngọc, Nguyễn Thị     1\n",
       "28            Phát, Nguyễn     2\n",
       "29    Phương, Trần Hữu Duy     1\n",
       "30          Quang, Vi Đăng     2\n",
       "31  Quyên, Đào Nguyễn Thảo     2\n",
       "32       Quân, Nguyễn Đình     3\n",
       "33         Thành, Trần Chí     3\n",
       "34      Thắng, Nguyễn Viết     3\n",
       "35          Thọ, Đặng Tiến     4\n",
       "36      Trang, Hòa Thị Thu     5\n",
       "37        Tuấn, Nguyễn Văn     1\n",
       "38         Tài, Nguyễn Hữu     4\n",
       "39       Tú, Lê Hoàng Ngọc     1\n",
       "40             Vũ, Cao Đức     5"
      ]
     },
     "execution_count": 27,
     "metadata": {},
     "output_type": "execute_result"
    }
   ],
   "source": [
    "keep_df"
   ]
  },
  {
   "cell_type": "code",
   "execution_count": 28,
   "metadata": {},
   "outputs": [
    {
     "data": {
      "text/plain": [
       "Group\n",
       "1    8\n",
       "2    8\n",
       "3    8\n",
       "4    8\n",
       "5    8\n",
       "dtype: int64"
      ]
     },
     "execution_count": 28,
     "metadata": {},
     "output_type": "execute_result"
    }
   ],
   "source": [
    "keep_df.groupby('Group').size()"
   ]
  },
  {
   "cell_type": "code",
   "execution_count": 29,
   "metadata": {},
   "outputs": [],
   "source": [
    "keep_df.to_csv('list_group.csv')"
   ]
  },
  {
   "cell_type": "code",
   "execution_count": null,
   "metadata": {},
   "outputs": [],
   "source": []
  }
 ],
 "metadata": {
  "kernelspec": {
   "display_name": "Python 3",
   "language": "python",
   "name": "python3"
  },
  "language_info": {
   "codemirror_mode": {
    "name": "ipython",
    "version": 3
   },
   "file_extension": ".py",
   "mimetype": "text/x-python",
   "name": "python",
   "nbconvert_exporter": "python",
   "pygments_lexer": "ipython3",
   "version": "3.8.5"
  }
 },
 "nbformat": 4,
 "nbformat_minor": 4
}
